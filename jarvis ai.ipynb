{
 "cells": [
  {
   "cell_type": "code",
   "execution_count": null,
   "metadata": {},
   "outputs": [],
   "source": [
    "pip install pyautogui"
   ]
  },
  {
   "cell_type": "code",
   "execution_count": null,
   "metadata": {},
   "outputs": [],
   "source": [
    "pip install SpeechRecognition\n"
   ]
  },
  {
   "cell_type": "code",
   "execution_count": null,
   "metadata": {},
   "outputs": [],
   "source": [
    "pip install pyaudio\n"
   ]
  },
  {
   "cell_type": "code",
   "execution_count": null,
   "metadata": {},
   "outputs": [],
   "source": [
    "pip install pyaudio"
   ]
  },
  {
   "cell_type": "code",
   "execution_count": null,
   "metadata": {},
   "outputs": [],
   "source": [
    "import speech_recognition as sr\n",
    "import pyautogui\n",
    "import nltk\n",
    "from nltk.tokenize import word_tokenize\n",
    "\n",
    "recognizer = sr.Recognizer()\n",
    "\n",
    "def open_application(app_name):\n",
    "    try:\n",
    "        if \"chrome\" in app_name:\n",
    "            pyautogui.press('win')\n",
    "            pyautogui.write('chrome')\n",
    "            pyautogui.press('enter')\n",
    "        elif \"notepad\" in app_name:\n",
    "            pyautogui.press('win')\n",
    "            pyautogui.write('notepad')\n",
    "            pyautogui.press('enter')\n",
    "        elif \"youtube\" in app_name:\n",
    "            pyautogui.press('win')\n",
    "            pyautogui.write('youtube')\n",
    "            pyautogui.press('enter')    \n",
    "        elif \"ms word\" in app_name:\n",
    "            pyautogui.press('win')\n",
    "            pyautogui.write('msword')\n",
    "            pyautogui.press('enter')   \n",
    "        elif \"paint\" in app_name:\n",
    "            pyautogui.press('win')\n",
    "            pyautogui.write('paint')\n",
    "            pyautogui.press('enter')\n",
    "        elif \"whatsapp\" in app_name:\n",
    "            pyautogui.press('win')\n",
    "            pyautogui.write('whatsapp')\n",
    "            pyautogui.press('enter')\n",
    "        elif \"spotify\" in app_name:\n",
    "            pyautogui.press('win')\n",
    "            pyautogui.write('spotify')\n",
    "            pyautogui.press('enter')    \n",
    "        elif \"microsoft store\" in app_name:\n",
    "            pyautogui.press('win')\n",
    "            pyautogui.write('microsoft store')\n",
    "            pyautogui.press('enter')   \n",
    "        elif \"settings\" in app_name:\n",
    "            pyautogui.press('win')\n",
    "            pyautogui.write('settings')\n",
    "            pyautogui.press('enter')  \n",
    "        elif \"google duo\" in app_name:\n",
    "            pyautogui.press('win')\n",
    "            pyautogui.write('google duo')\n",
    "            pyautogui.press('enter') \n",
    "        elif \"calculator\" in app_name:\n",
    "            pyautogui.press('win')\n",
    "            pyautogui.write('calculator')\n",
    "            pyautogui.press('enter')\n",
    "        elif \"github\" in app_name:\n",
    "            pyautogui.press('win')\n",
    "            pyautogui.write('github')\n",
    "            pyautogui.press('enter')             \n",
    "\n",
    "        else:\n",
    "            print(\"Application not supported.\")\n",
    "    except Exception as e:\n",
    "        print(\"Error opening application:\", str(e))\n",
    "\n",
    "def chat_with_edith(user_input):\n",
    "    if \"open\" in user_input:\n",
    "        app_name = user_input.split(\"open\")[-1].strip()\n",
    "        open_application(app_name)\n",
    "        return \"Opening \" + app_name + \"...\"\n",
    "    else:\n",
    "        return \"I'm sorry, I didn't understand that.\"\n",
    "\n",
    "def main():\n",
    "    print(\"Hello! I'm EDITH your personal AI assistant . How can I assist you today?\")\n",
    "\n",
    "    while True:\n",
    "        with sr.Microphone() as source:\n",
    "            print(\"Listening...\")\n",
    "            audio = recognizer.listen(source)\n",
    "\n",
    "        try:\n",
    "            user_input = recognizer.recognize_google(audio).lower()\n",
    "            print(\"You:\", user_input)\n",
    "\n",
    "            if \"exit\" in user_input:\n",
    "                print(\"Goodbye!\")\n",
    "                break\n",
    "\n",
    "            response = chat_with_edith(user_input)\n",
    "            print(\"EDITH:\", response)\n",
    "\n",
    "        except sr.UnknownValueError:\n",
    "            print(\"Sorry, I couldn't understand what you said.\")\n",
    "        except sr.RequestError as e:\n",
    "            print(\"Could not request results from Google Speech Recognition service; {0}\".format(e))\n",
    "\n",
    "if __name__ == \"__main__\":\n",
    "    nltk.download('punkt')\n",
    "    main()\n"
   ]
  }
 ],
 "metadata": {
  "kernelspec": {
   "display_name": "Python 3",
   "language": "python",
   "name": "python3"
  },
  "language_info": {
   "codemirror_mode": {
    "name": "ipython",
    "version": 3
   },
   "file_extension": ".py",
   "mimetype": "text/x-python",
   "name": "python",
   "nbconvert_exporter": "python",
   "pygments_lexer": "ipython3",
   "version": "3.11.5"
  },
  "orig_nbformat": 4
 },
 "nbformat": 4,
 "nbformat_minor": 2
}
